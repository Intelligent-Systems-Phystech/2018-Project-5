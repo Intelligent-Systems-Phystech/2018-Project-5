{
 "cells": [
  {
   "cell_type": "code",
   "execution_count": 1,
   "metadata": {},
   "outputs": [],
   "source": [
    "%load_ext autoreload\n",
    "%autoreload 2"
   ]
  },
  {
   "cell_type": "code",
   "execution_count": 2,
   "metadata": {},
   "outputs": [],
   "source": [
    "from __future__ import print_function\n",
    "\n",
    "import numpy as np\n",
    "import tqdm \n",
    "\n",
    "from collections import Counter\n",
    "from glove import Glove, Corpus\n",
    "\n",
    "from sklearn.feature_extraction.text import TfidfVectorizer\n",
    "from sklearn.cluster import KMeans, FeatureAgglomeration\n",
    "from sklearn.cluster import AgglomerativeClustering\n",
    "from sklearn.decomposition import TruncatedSVD\n",
    "from sklearn import metrics\n",
    "from sklearn.metrics import accuracy_score\n",
    "np.random.seed(1337)  # for reproducibility\n",
    "\n",
    "from sklearn.metrics import adjusted_mutual_info_score as AMI\n",
    "from sklearn.metrics import v_measure_score as VM\n",
    "from sklearn.metrics.cluster import adjusted_rand_score as ARI"
   ]
  },
  {
   "cell_type": "code",
   "execution_count": 1,
   "metadata": {},
   "outputs": [],
   "source": [
    "from data import loader_snli, loader_msr"
   ]
  },
  {
   "cell_type": "markdown",
   "metadata": {},
   "source": [
    "## Utils"
   ]
  },
  {
   "cell_type": "code",
   "execution_count": 4,
   "metadata": {},
   "outputs": [],
   "source": [
    "def purity_score(y_true, y_pred):\n",
    "    \"\"\"Purity score\n",
    "        Args:\n",
    "            y_true(np.ndarray): n*1 matrix Ground truth labels\n",
    "            y_pred(np.ndarray): n*1 matrix Predicted clusters\n",
    "\n",
    "        Returns:\n",
    "            float: Purity score\n",
    "    \"\"\"\n",
    "    # matrix which will hold the majority-voted labels\n",
    "    y_voted_labels = np.zeros(y_true.shape)\n",
    "    # Ordering labels\n",
    "    ## Labels might be missing e.g with set like 0,2 where 1 is missing\n",
    "    ## First find the unique labels, then map the labels to an ordered set\n",
    "    ## 0,2 should become 0,1\n",
    "    labels = np.unique(y_true)\n",
    "    ordered_labels = np.arange(labels.shape[0])\n",
    "    for k in range(labels.shape[0]):\n",
    "        y_true[y_true==labels[k]] = ordered_labels[k]\n",
    "    # Update unique labels\n",
    "    labels = np.unique(y_true)\n",
    "    # We set the number of bins to be n_classes+2 so that \n",
    "    # we count the actual occurence of classes between two consecutive bins\n",
    "    # the bigger being excluded [bin_i, bin_i+1[\n",
    "    bins = np.concatenate((labels, [np.max(labels)+1]), axis=0)\n",
    "\n",
    "    for cluster in np.unique(y_pred):\n",
    "        hist, _ = np.histogram(y_true[y_pred==cluster], bins=bins)\n",
    "        # Find the most present label in the cluster\n",
    "        winner = np.argmax(hist)\n",
    "        y_voted_labels[y_pred==cluster] = winner\n",
    "\n",
    "    return accuracy_score(y_true, y_voted_labels)"
   ]
  },
  {
   "cell_type": "markdown",
   "metadata": {},
   "source": [
    "### Load Data"
   ]
  },
  {
   "cell_type": "code",
   "execution_count": 5,
   "metadata": {},
   "outputs": [],
   "source": [
    "PATH = 'msr-paraphrase-corpus/'\n",
    "# PATH = 'snli_1.0/'\n",
    "data = loader_msr(PATH)"
   ]
  },
  {
   "cell_type": "code",
   "execution_count": 6,
   "metadata": {},
   "outputs": [
    {
     "name": "stdout",
     "output_type": "stream",
     "text": [
      "5344 2590\n",
      "2274 1126\n"
     ]
    }
   ],
   "source": [
    "print(len(data['train-x']), max(data['train-y']))\n",
    "print(len(data['test-x']), max(data['test-y']))"
   ]
  },
  {
   "cell_type": "markdown",
   "metadata": {},
   "source": [
    "# Baseline"
   ]
  },
  {
   "cell_type": "markdown",
   "metadata": {},
   "source": [
    "## Approx number of clusters"
   ]
  },
  {
   "cell_type": "code",
   "execution_count": 161,
   "metadata": {},
   "outputs": [],
   "source": [
    "def choose_n_cluster(part):\n",
    "    counter = Counter(data[part + '-y'])\n",
    "    n_clusters = int(len(data[part + '-x']) / np.mean(list(counter.values())))\n",
    "#     n_clusters = int(len(data[part + '-x']) / np.median(list(counter.values())))\n",
    "    return n_clusters"
   ]
  },
  {
   "cell_type": "code",
   "execution_count": 162,
   "metadata": {},
   "outputs": [
    {
     "data": {
      "text/plain": [
       "2591"
      ]
     },
     "execution_count": 162,
     "metadata": {},
     "output_type": "execute_result"
    }
   ],
   "source": [
    "choose_n_cluster('train')"
   ]
  },
  {
   "cell_type": "code",
   "execution_count": 163,
   "metadata": {},
   "outputs": [
    {
     "data": {
      "text/plain": [
       "1127"
      ]
     },
     "execution_count": 163,
     "metadata": {},
     "output_type": "execute_result"
    }
   ],
   "source": [
    "choose_n_cluster('test')"
   ]
  },
  {
   "cell_type": "markdown",
   "metadata": {},
   "source": [
    "## Vectorizing Data"
   ]
  },
  {
   "cell_type": "code",
   "execution_count": 11,
   "metadata": {},
   "outputs": [],
   "source": [
    "vectorizer = TfidfVectorizer(ngram_range=(1, 4), stop_words='english')"
   ]
  },
  {
   "cell_type": "code",
   "execution_count": 12,
   "metadata": {},
   "outputs": [
    {
     "data": {
      "text/plain": [
       "TfidfVectorizer(analyzer='word', binary=False, decode_error='strict',\n",
       "        dtype=<class 'numpy.float64'>, encoding='utf-8', input='content',\n",
       "        lowercase=True, max_df=1.0, max_features=None, min_df=1,\n",
       "        ngram_range=(1, 4), norm='l2', preprocessor=None, smooth_idf=True,\n",
       "        stop_words='english', strip_accents=None, sublinear_tf=False,\n",
       "        token_pattern='(?u)\\\\b\\\\w\\\\w+\\\\b', tokenizer=None, use_idf=True,\n",
       "        vocabulary=None)"
      ]
     },
     "execution_count": 12,
     "metadata": {},
     "output_type": "execute_result"
    }
   ],
   "source": [
    "vectorizer.fit(data['train-x'])"
   ]
  },
  {
   "cell_type": "code",
   "execution_count": 13,
   "metadata": {},
   "outputs": [],
   "source": [
    "data['train-vec'] = vectorizer.transform(data['train-x'])\n",
    "data['test-vec'] = vectorizer.transform(data['test-x'])"
   ]
  },
  {
   "cell_type": "code",
   "execution_count": 14,
   "metadata": {},
   "outputs": [
    {
     "data": {
      "text/plain": [
       "((5344, 123108), (2274, 123108))"
      ]
     },
     "execution_count": 14,
     "metadata": {},
     "output_type": "execute_result"
    }
   ],
   "source": [
    "data['train-vec'].shape, data['test-vec'].shape"
   ]
  },
  {
   "cell_type": "markdown",
   "metadata": {},
   "source": [
    "## PCA decomposition"
   ]
  },
  {
   "cell_type": "code",
   "execution_count": 15,
   "metadata": {},
   "outputs": [],
   "source": [
    "Xpca = TruncatedSVD(300)"
   ]
  },
  {
   "cell_type": "code",
   "execution_count": 16,
   "metadata": {},
   "outputs": [
    {
     "data": {
      "text/plain": [
       "TruncatedSVD(algorithm='randomized', n_components=300, n_iter=5,\n",
       "       random_state=None, tol=0.0)"
      ]
     },
     "execution_count": 16,
     "metadata": {},
     "output_type": "execute_result"
    }
   ],
   "source": [
    "Xpca.fit(data['train-vec'])"
   ]
  },
  {
   "cell_type": "code",
   "execution_count": 17,
   "metadata": {},
   "outputs": [],
   "source": [
    "data['train-pca'] = Xpca.transform(data['train-vec'])\n",
    "data['test-pca'] = Xpca.transform(data['test-vec'])"
   ]
  },
  {
   "cell_type": "markdown",
   "metadata": {},
   "source": [
    "# Clustering"
   ]
  },
  {
   "cell_type": "code",
   "execution_count": 164,
   "metadata": {
    "scrolled": true
   },
   "outputs": [
    {
     "data": {
      "text/plain": [
       "1127"
      ]
     },
     "execution_count": 164,
     "metadata": {},
     "output_type": "execute_result"
    }
   ],
   "source": [
    "part = 'test'\n",
    "n_clusters = choose_n_cluster(part)\n",
    "n_clusters"
   ]
  },
  {
   "cell_type": "code",
   "execution_count": 165,
   "metadata": {},
   "outputs": [],
   "source": [
    "grouper = KMeans(n_clusters=n_clusters)"
   ]
  },
  {
   "cell_type": "code",
   "execution_count": null,
   "metadata": {},
   "outputs": [],
   "source": [
    "label_predict = grouper.fit_predict(data[part + '-pca'])"
   ]
  },
  {
   "cell_type": "code",
   "execution_count": 167,
   "metadata": {},
   "outputs": [],
   "source": [
    "label_true = data[part + '-y']"
   ]
  },
  {
   "cell_type": "code",
   "execution_count": 51,
   "metadata": {},
   "outputs": [
    {
     "data": {
      "text/plain": [
       "array([1652, 1652, 1666, 1666,  125, 2535, 1692, 1692,  320,  320])"
      ]
     },
     "execution_count": 51,
     "metadata": {},
     "output_type": "execute_result"
    }
   ],
   "source": [
    "label_predict[:10]"
   ]
  },
  {
   "cell_type": "markdown",
   "metadata": {},
   "source": [
    "## Score"
   ]
  },
  {
   "cell_type": "markdown",
   "metadata": {},
   "source": [
    "### Random preds"
   ]
  },
  {
   "cell_type": "markdown",
   "metadata": {},
   "source": [
    "#### ARI"
   ]
  },
  {
   "cell_type": "code",
   "execution_count": 43,
   "metadata": {},
   "outputs": [],
   "source": [
    "random_aris = []\n",
    "for i in range(100):\n",
    "    random_preds = np.random.randint(0, max(label_true) + 1, size=len(label_true))\n",
    "    ari = ARI(label_true, random_preds)\n",
    "    random_aris.append(ari)"
   ]
  },
  {
   "cell_type": "code",
   "execution_count": 44,
   "metadata": {
    "scrolled": true
   },
   "outputs": [
    {
     "data": {
      "text/plain": [
       "(5.64277064333405e-05, -1.457397025335591e-05)"
      ]
     },
     "execution_count": 44,
     "metadata": {},
     "output_type": "execute_result"
    }
   ],
   "source": [
    "np.mean(random_aris), np.median(random_aris)"
   ]
  },
  {
   "cell_type": "markdown",
   "metadata": {},
   "source": [
    "#### Purity scores"
   ]
  },
  {
   "cell_type": "code",
   "execution_count": 44,
   "metadata": {},
   "outputs": [],
   "source": [
    "random_purity_scores = []\n",
    "for i in range(100):\n",
    "    random_preds = np.random.randint(0, max(label_true) + 1, size=len(label_true))\n",
    "    purity_score_ = purity_score(label_true, random_preds)\n",
    "    random_purity_scores.append(purity_score_)"
   ]
  },
  {
   "cell_type": "code",
   "execution_count": 45,
   "metadata": {},
   "outputs": [
    {
     "data": {
      "text/plain": [
       "(0.09359653388743977, 0.09354967063088554)"
      ]
     },
     "execution_count": 45,
     "metadata": {},
     "output_type": "execute_result"
    }
   ],
   "source": [
    "(np.mean(random_purity_scores), np.median(random_purity_scores))"
   ]
  },
  {
   "cell_type": "markdown",
   "metadata": {},
   "source": [
    "### Clustering score"
   ]
  },
  {
   "cell_type": "markdown",
   "metadata": {},
   "source": [
    "#### ARI"
   ]
  },
  {
   "cell_type": "code",
   "execution_count": 52,
   "metadata": {},
   "outputs": [
    {
     "data": {
      "text/plain": [
       "0.7640486551055635"
      ]
     },
     "execution_count": 52,
     "metadata": {},
     "output_type": "execute_result"
    }
   ],
   "source": [
    "ARI(label_true, label_predict)"
   ]
  },
  {
   "cell_type": "markdown",
   "metadata": {},
   "source": [
    "#### Purity scores"
   ]
  },
  {
   "cell_type": "code",
   "execution_count": 53,
   "metadata": {
    "scrolled": true
   },
   "outputs": [
    {
     "data": {
      "text/plain": [
       "0.9418038922155688"
      ]
     },
     "execution_count": 53,
     "metadata": {},
     "output_type": "execute_result"
    }
   ],
   "source": [
    "purity_score(label_true, label_predict)__"
   ]
  },
  {
   "cell_type": "markdown",
   "metadata": {},
   "source": [
    "# GloVe"
   ]
  },
  {
   "cell_type": "code",
   "execution_count": 17,
   "metadata": {},
   "outputs": [],
   "source": [
    "part = 'test'"
   ]
  },
  {
   "cell_type": "code",
   "execution_count": 129,
   "metadata": {},
   "outputs": [],
   "source": [
    "glove = Glove().load_stanford('glove.6B.300d.txt')"
   ]
  },
  {
   "cell_type": "code",
   "execution_count": 35,
   "metadata": {},
   "outputs": [],
   "source": [
    "gw2v = lambda word: glove.word_vectors[glove.dictionary[word]]"
   ]
  },
  {
   "cell_type": "markdown",
   "metadata": {},
   "source": [
    "### Make vectors"
   ]
  },
  {
   "cell_type": "code",
   "execution_count": 18,
   "metadata": {},
   "outputs": [
    {
     "name": "stderr",
     "output_type": "stream",
     "text": [
      "100%|██████████| 2274/2274 [00:00<00:00, 16226.07it/s]\n"
     ]
    }
   ],
   "source": [
    "vectors = []\n",
    "for sentence in tqdm.tqdm(data[part + '-x']):\n",
    "#     print (test_sentence)\n",
    "    sentence_vectors = []\n",
    "    for word in sentence.split():\n",
    "        #print (word)\n",
    "        try:\n",
    "            wv = gw2v(word.lower())\n",
    "            sentence_vectors.append(wv)\n",
    "        except KeyError:\n",
    "            pass\n",
    "    vectors.append(np.mean(sentence_vectors, axis=0))"
   ]
  },
  {
   "cell_type": "code",
   "execution_count": 19,
   "metadata": {},
   "outputs": [],
   "source": [
    "vectors = np.array(vectors)"
   ]
  },
  {
   "cell_type": "code",
   "execution_count": 20,
   "metadata": {},
   "outputs": [
    {
     "data": {
      "text/plain": [
       "(2274, 300)"
      ]
     },
     "execution_count": 20,
     "metadata": {},
     "output_type": "execute_result"
    }
   ],
   "source": [
    "vectors.shape"
   ]
  },
  {
   "cell_type": "markdown",
   "metadata": {},
   "source": [
    "### Kmeans"
   ]
  },
  {
   "cell_type": "code",
   "execution_count": 21,
   "metadata": {},
   "outputs": [],
   "source": [
    "n_clusters = choose_n_cluster(part)"
   ]
  },
  {
   "cell_type": "code",
   "execution_count": 22,
   "metadata": {},
   "outputs": [],
   "source": [
    "grouper = KMeans(n_clusters=n_clusters)"
   ]
  },
  {
   "cell_type": "code",
   "execution_count": 23,
   "metadata": {},
   "outputs": [
    {
     "data": {
      "text/plain": [
       "KMeans(algorithm='auto', copy_x=True, init='k-means++', max_iter=300,\n",
       "    n_clusters=1127, n_init=10, n_jobs=None, precompute_distances='auto',\n",
       "    random_state=None, tol=0.0001, verbose=0)"
      ]
     },
     "execution_count": 23,
     "metadata": {},
     "output_type": "execute_result"
    }
   ],
   "source": [
    "grouper.fit(vectors, n_clusters)"
   ]
  },
  {
   "cell_type": "code",
   "execution_count": 24,
   "metadata": {},
   "outputs": [],
   "source": [
    "label_predict = grouper.predict(vectors)\n",
    "label_true = data[part + '-y']"
   ]
  },
  {
   "cell_type": "code",
   "execution_count": 25,
   "metadata": {},
   "outputs": [
    {
     "data": {
      "text/plain": [
       "0.7391433525668684"
      ]
     },
     "execution_count": 25,
     "metadata": {},
     "output_type": "execute_result"
    }
   ],
   "source": [
    "ARI(label_true, label_predict)"
   ]
  },
  {
   "cell_type": "code",
   "execution_count": 26,
   "metadata": {},
   "outputs": [
    {
     "data": {
      "text/plain": [
       "0.9120492524186455"
      ]
     },
     "execution_count": 26,
     "metadata": {},
     "output_type": "execute_result"
    }
   ],
   "source": [
    "purity_score(label_true, label_predict)"
   ]
  },
  {
   "cell_type": "markdown",
   "metadata": {},
   "source": [
    "# Algomerative clustering"
   ]
  },
  {
   "cell_type": "code",
   "execution_count": 24,
   "metadata": {},
   "outputs": [],
   "source": []
  },
  {
   "cell_type": "code",
   "execution_count": 27,
   "metadata": {},
   "outputs": [],
   "source": [
    "n_clusters = choose_n_cluster(part)\n",
    "algomerative_grouper = AgglomerativeClustering(n_clusters=n_clusters)"
   ]
  },
  {
   "cell_type": "code",
   "execution_count": 28,
   "metadata": {},
   "outputs": [],
   "source": [
    "label_predict = algomerative_grouper.fit_predict(vectors, n_clusters)\n",
    "label_true = data[part + '-y']"
   ]
  },
  {
   "cell_type": "code",
   "execution_count": 29,
   "metadata": {},
   "outputs": [
    {
     "data": {
      "text/plain": [
       "array([312, 312, 235, ..., 865, 987, 987])"
      ]
     },
     "execution_count": 29,
     "metadata": {},
     "output_type": "execute_result"
    }
   ],
   "source": [
    "label_predict"
   ]
  },
  {
   "cell_type": "code",
   "execution_count": 30,
   "metadata": {},
   "outputs": [
    {
     "data": {
      "text/plain": [
       "0.8419865125918745"
      ]
     },
     "execution_count": 30,
     "metadata": {},
     "output_type": "execute_result"
    }
   ],
   "source": [
    "ARI(label_true, label_predict)"
   ]
  },
  {
   "cell_type": "code",
   "execution_count": 31,
   "metadata": {},
   "outputs": [
    {
     "data": {
      "text/plain": [
       "0.9423922603342129"
      ]
     },
     "execution_count": 31,
     "metadata": {},
     "output_type": "execute_result"
    }
   ],
   "source": [
    "purity_score(label_true, label_predict)"
   ]
  },
  {
   "cell_type": "markdown",
   "metadata": {},
   "source": [
    "## Train Glove"
   ]
  },
  {
   "cell_type": "code",
   "execution_count": 57,
   "metadata": {},
   "outputs": [],
   "source": [
    "import re"
   ]
  },
  {
   "cell_type": "code",
   "execution_count": 78,
   "metadata": {},
   "outputs": [],
   "source": [
    "def build_tokenizer(token_pattern):\n",
    "    token_pattern = re.compile(token_pattern)\n",
    "    return lambda doc: token_pattern.findall(doc.lower())"
   ]
  },
  {
   "cell_type": "code",
   "execution_count": 79,
   "metadata": {},
   "outputs": [],
   "source": [
    "bulider = build_tokenizer('(?u)\\\\b\\\\w\\\\w+\\\\b')"
   ]
  },
  {
   "cell_type": "code",
   "execution_count": 130,
   "metadata": {},
   "outputs": [],
   "source": [
    "corpus = Corpus()\n",
    "corpus.fit(map(bulider, data['train-x']))"
   ]
  },
  {
   "cell_type": "code",
   "execution_count": 131,
   "metadata": {
    "scrolled": true
   },
   "outputs": [
    {
     "name": "stdout",
     "output_type": "stream",
     "text": [
      "CPU times: user 2h 21min 19s, sys: 2.67 s, total: 2h 21min 21s\n",
      "Wall time: 35min 55s\n"
     ]
    }
   ],
   "source": [
    "%%time \n",
    "glove.fit(corpus.matrix, epochs=3000, no_threads=4)\n",
    "glove.add_dictionary(corpus.dictionary)"
   ]
  },
  {
   "cell_type": "code",
   "execution_count": 132,
   "metadata": {},
   "outputs": [],
   "source": [
    "gw2v = lambda word: glove.word_vectors[glove.dictionary[word]]"
   ]
  },
  {
   "cell_type": "code",
   "execution_count": 147,
   "metadata": {},
   "outputs": [
    {
     "name": "stderr",
     "output_type": "stream",
     "text": [
      "100%|██████████| 5344/5344 [00:00<00:00, 16695.18it/s]\n"
     ]
    }
   ],
   "source": [
    "part = 'train'\n",
    "vectors = []\n",
    "for sentence in tqdm.tqdm(data[part + '-x']):\n",
    "#     print (test_sentence)\n",
    "    sentence_vectors = []\n",
    "    for word in sentence.split():\n",
    "#         print(word)\n",
    "        try:\n",
    "            wv = gw2v(word.lower())\n",
    "            sentence_vectors.append(wv)\n",
    "        except KeyError:\n",
    "            pass\n",
    "        except IndexError:\n",
    "            pass\n",
    "    vectors.append(np.mean(sentence_vectors, axis=0))"
   ]
  },
  {
   "cell_type": "code",
   "execution_count": 148,
   "metadata": {},
   "outputs": [],
   "source": [
    "vectors = np.array(vectors)"
   ]
  },
  {
   "cell_type": "code",
   "execution_count": 149,
   "metadata": {},
   "outputs": [
    {
     "data": {
      "text/plain": [
       "(5344, 300)"
      ]
     },
     "execution_count": 149,
     "metadata": {},
     "output_type": "execute_result"
    }
   ],
   "source": [
    "vectors.shape"
   ]
  },
  {
   "cell_type": "markdown",
   "metadata": {},
   "source": [
    "### Kmeans"
   ]
  },
  {
   "cell_type": "code",
   "execution_count": 150,
   "metadata": {},
   "outputs": [],
   "source": [
    "n_clusters = choose_n_cluster(part)"
   ]
  },
  {
   "cell_type": "code",
   "execution_count": 151,
   "metadata": {},
   "outputs": [],
   "source": [
    "grouper = KMeans(n_clusters=n_clusters)"
   ]
  },
  {
   "cell_type": "code",
   "execution_count": 152,
   "metadata": {},
   "outputs": [
    {
     "data": {
      "text/plain": [
       "KMeans(algorithm='auto', copy_x=True, init='k-means++', max_iter=300,\n",
       "    n_clusters=2591, n_init=10, n_jobs=None, precompute_distances='auto',\n",
       "    random_state=None, tol=0.0001, verbose=0)"
      ]
     },
     "execution_count": 152,
     "metadata": {},
     "output_type": "execute_result"
    }
   ],
   "source": [
    "grouper.fit(vectors, n_clusters)"
   ]
  },
  {
   "cell_type": "code",
   "execution_count": 153,
   "metadata": {},
   "outputs": [],
   "source": [
    "label_predict = grouper.predict(vectors)\n",
    "label_true = data[part + '-y']"
   ]
  },
  {
   "cell_type": "code",
   "execution_count": 154,
   "metadata": {},
   "outputs": [
    {
     "data": {
      "text/plain": [
       "0.4271054004040746"
      ]
     },
     "execution_count": 154,
     "metadata": {},
     "output_type": "execute_result"
    }
   ],
   "source": [
    "ARI(label_true, label_predict)"
   ]
  },
  {
   "cell_type": "code",
   "execution_count": 155,
   "metadata": {},
   "outputs": [
    {
     "data": {
      "text/plain": [
       "0.7900449101796407"
      ]
     },
     "execution_count": 155,
     "metadata": {},
     "output_type": "execute_result"
    }
   ],
   "source": [
    "purity_score(label_true, label_predict)"
   ]
  },
  {
   "cell_type": "markdown",
   "metadata": {},
   "source": [
    "# Algomerative clustering"
   ]
  },
  {
   "cell_type": "code",
   "execution_count": 156,
   "metadata": {},
   "outputs": [],
   "source": [
    "n_clusters = choose_n_cluster(part)\n",
    "algomerative_grouper = AgglomerativeClustering(n_clusters=n_clusters)"
   ]
  },
  {
   "cell_type": "code",
   "execution_count": 157,
   "metadata": {},
   "outputs": [],
   "source": [
    "label_predict = algomerative_grouper.fit_predict(vectors, n_clusters)\n",
    "label_true = data[part + '-y']"
   ]
  },
  {
   "cell_type": "code",
   "execution_count": 158,
   "metadata": {},
   "outputs": [
    {
     "data": {
      "text/plain": [
       "array([1169, 1169, 1024, ...,   26,  989, 2541])"
      ]
     },
     "execution_count": 158,
     "metadata": {},
     "output_type": "execute_result"
    }
   ],
   "source": [
    "label_predict"
   ]
  },
  {
   "cell_type": "code",
   "execution_count": 159,
   "metadata": {},
   "outputs": [
    {
     "data": {
      "text/plain": [
       "0.5928495377256653"
      ]
     },
     "execution_count": 159,
     "metadata": {},
     "output_type": "execute_result"
    }
   ],
   "source": [
    "ARI(label_true, label_predict)"
   ]
  },
  {
   "cell_type": "code",
   "execution_count": 160,
   "metadata": {},
   "outputs": [
    {
     "data": {
      "text/plain": [
       "0.8280314371257484"
      ]
     },
     "execution_count": 160,
     "metadata": {},
     "output_type": "execute_result"
    }
   ],
   "source": [
    "purity_score(label_true, label_predict)"
   ]
  },
  {
   "cell_type": "markdown",
   "metadata": {},
   "source": [
    "# Выводы"
   ]
  },
  {
   "cell_type": "markdown",
   "metadata": {},
   "source": [
    "### Векторизация фраз"
   ]
  },
  {
   "cell_type": "markdown",
   "metadata": {},
   "source": [
    "Для векторизации фраз сначала использовался известный алгоритм `Tf-Idf`. Он далает неплохую векторизацию, взвешивая слова и выдяляя наиболее важные, но к сожалению он не учитвыет синонимы или связь между словами. Эти проблемы решает предобученный `Glove`. При использовании этого типа векторизации и находя средний вектор предложения, любой алгоритм класторизации показал неплохие результаты.\n",
    "\n",
    "Дообучение `Glove` не принесло прироста в качестве, а наоборот ухудшило его. Это может быть связано с некоторыми фактами. Например с нехваткой ресурсов: хорошие модели векторизации, такие как `ELMO` или `BERT`, обучались на новейших процессорах Intel и использовали огромное количество памяти (>8 Gb RAM)."
   ]
  },
  {
   "cell_type": "markdown",
   "metadata": {},
   "source": [
    "### Кластеризация векторов"
   ]
  },
  {
   "cell_type": "markdown",
   "metadata": {},
   "source": [
    "Для обучения использовались два алгоритма: `KMeans` и `Алгомитиративная кластеризация`. Оба из них просты в использовании.\n",
    "\n",
    "Но оба из них плохи тем, что мы заранее должны знать кол-во кластеров, на которое их нужно разбивать, а так же они оба чувствутительны к выбросам. Такой проблемы нет в `DBSCAN`, но в нашей задачи из-за большого кол-ва объектов и большого значение variance, этот алгоритм не эффективен. Проблему кол-ва кластеров можно решить оценкой распределения количества размеров кластеров. С выбросами можно бороться на этапе векторизации (`Glove` решает эту проблему)\n",
    "\n",
    "Использование `KMeans` эффективно по памяти, так как это итеративный алгоритм. `Агломиративная кластеризация` наоборот использует большое кол-во памяти, так как находит попарные расстояния между объектами. Данные устроены так, что имеется большое кол-во кластеров (много групп парафраз с двумя предожениями). Поэтому на этих данных эффективнее всего пользоваться `Агломиративной кластеризацией`. "
   ]
  },
  {
   "cell_type": "markdown",
   "metadata": {},
   "source": [
    "### Результаты"
   ]
  },
  {
   "cell_type": "markdown",
   "metadata": {},
   "source": [
    "\n",
    "<table style=\"border-style: solid; border-collapse: collapse;\">\n",
    "  <tr>\n",
    "    <th rowspan=\"2\" style=\"border: 1px solid gray;     text-align: center;\">Data</th>\n",
    "    <th rowspan=\"2\" style=\"border: 1px solid gray;     text-align: center;\">Method Vectorization</th>\n",
    "    <th rowspan=\"2\" style=\"border: 1px solid gray;     text-align: center;\">Method Clustering</th>\n",
    "    <th colspan=\"2\" style=\"border: 1px solid gray;     text-align: center;\">ARI</th>\n",
    "    <th colspan=\"2\" style=\"border: 1px solid gray;     text-align: center;\">Purity Score</th>\n",
    "  </tr>\n",
    "  <tr>\n",
    "    <td style=\"border: 1px solid gray;     text-align: center;\">train</td>\n",
    "    <td style=\"border: 1px solid gray;     text-align: center;\">test</td>\n",
    "    <td style=\"border: 1px solid gray;     text-align: center;\">train</td>\n",
    "    <td style=\"border: 1px solid gray;     text-align: center;\">test</td>\n",
    "  </tr>\n",
    "  <tr>\n",
    "    <td rowspan=\"6\" style=\"border: 1px solid gray;     text-align: center;\">Microsoft Research Paraphrase Corpus</td>\n",
    "    <td style=\"border: 1px solid gray;     text-align: center;\">Tf-Idf + PCA</td>\n",
    "    <td style=\"border: 1px solid gray;     text-align: center;\">KMeans</td>\n",
    "    <td style=\"border: 1px solid gray\">0,304009</td>\n",
    "    <td style=\"border: 1px solid gray\">0,149801</td>\n",
    "    <td style=\"border: 1px solid gray\">0,86</td>\n",
    "    <td style=\"border: 1px solid gray\">0,75</td>\n",
    "  </tr>\n",
    "  <tr>\n",
    "    <td style=\"border: 1px solid gray;     text-align: center;\">Tf-Idf + PCA</td>\n",
    "    <td style=\"border: 1px solid gray;     text-align: center;\">Agglomerative</td>\n",
    "    <td style=\"border: 1px solid gray\">0,764049</td>\n",
    "    <td style=\"border: 1px solid gray\">0,413312</td>\n",
    "    <td style=\"border: 1px solid gray\">0,94</td>\n",
    "    <td style=\"border: 1px solid gray\">0,85</td>\n",
    "  </tr>\n",
    "  <tr>\n",
    "    <td style=\"border: 1px solid gray;     text-align: center;\">Glove</td>\n",
    "    <td style=\"border: 1px solid gray;     text-align: center;\">KMeans</td>\n",
    "    <td style=\"border: 1px solid gray\">0,733050</td>\n",
    "    <td style=\"border: 1px solid gray\">0,751013</td>\n",
    "    <td style=\"border: 1px solid gray\">0,92</td>\n",
    "    <td style=\"border: 1px solid gray\">0,92</td>\n",
    "  </tr>\n",
    "  <tr>\n",
    "    <td style=\"border: 1px solid gray;     text-align: center;\">Glove</td>\n",
    "    <td style=\"border: 1px solid gray;     text-align: center;\">Agglomerative</td>\n",
    "    <th style=\"border: 1px solid gray\">0,845933</th>\n",
    "    <th style=\"border: 1px solid gray\">0,848819</th>\n",
    "    <th style=\"border: 1px solid gray\">0,95</th>\n",
    "    <th style=\"border: 1px solid gray\">0,95</th>\n",
    "  </tr>\n",
    "  <tr>\n",
    "    <td style=\"border: 1px solid gray;     text-align: center;\">Glove + fit</td>\n",
    "    <td style=\"border: 1px solid gray;     text-align: center;\">Agglomerative</td>\n",
    "    <td style=\"border: 1px solid gray\">0,592850</td>\n",
    "    <td style=\"border: 1px solid gray\">0,597578</td>\n",
    "    <td style=\"border: 1px solid gray\">0,83</td>\n",
    "    <td style=\"border: 1px solid gray\">0,83</td>\n",
    "  </tr>\n",
    "  <tr>\n",
    "    <td style=\"border: 1px solid gray;     text-align: center;\">Random</td>\n",
    "    <td style=\"border: 1px solid gray;     text-align: center;\">Random</td>\n",
    "    <td style=\"border: 1px solid gray\">-0,000012</td>\n",
    "    <td style=\"border: 1px solid gray\">0,000058</td>\n",
    "    <td style=\"border: 1px solid gray\">0,42</td>\n",
    "    <td style=\"border: 1px solid gray\">0,43</td>\n",
    "  </tr>\n",
    "  <tr>\n",
    "    <td rowspan=\"4\" style=\"border: 1px solid gray;     text-align: center;\">The Stanford Natural Language Inference (SNLI) Corpus</td>\n",
    "    <td style=\"border: 1px solid gray;     text-align: center;\">Tf-Idf + PCA</td>\n",
    "    <td style=\"border: 1px solid gray;     text-align: center;\">KMeans</td>\n",
    "    <td style=\"border: 1px solid gray\">0,022221</td>\n",
    "    <td style=\"border: 1px solid gray\">0,078349</td>\n",
    "    <td style=\"border: 1px solid gray\">0,22</td>\n",
    "    <td style=\"border: 1px solid gray\">0,51</td>\n",
    "  </tr>\n",
    "  <tr>\n",
    "    <td style=\"border: 1px solid gray;     text-align: center;\">Glove</td>\n",
    "    <td style=\"border: 1px solid gray;     text-align: center;\">KMeans</td>\n",
    "    <td style=\"border: 1px solid gray\">0,031683</td>\n",
    "    <td style=\"border: 1px solid gray\">0,158066</td>\n",
    "    <td style=\"border: 1px solid gray\">0,24</td>\n",
    "    <td style=\"border: 1px solid gray\">0,56</td>\n",
    "  </tr>\n",
    "  <tr>\n",
    "    <td style=\"border: 1px solid gray;     text-align: center;\">Glove</td>\n",
    "    <td style=\"border: 1px solid gray;     text-align: center;\">Agglomerative</td>\n",
    "    <td style=\"border: 1px solid gray\">--</td>\n",
    "    <th style=\"border: 1px solid gray\">0,215346</th>\n",
    "    <td style=\"border: 1px solid gray\">--</td>\n",
    "    <th style=\"border: 1px solid gray\">0,58</th>\n",
    "  </tr>\n",
    "  <tr>\n",
    "    <td style=\"border: 1px solid gray;     text-align: center;\">Random</td>\n",
    "    <td style=\"border: 1px solid gray;     text-align: center;\">Random</td>\n",
    "    <td style=\"border: 1px solid gray\">-0,000002</td>\n",
    "    <td style=\"border: 1px solid gray\">0,000015</td>\n",
    "    <td style=\"border: 1px solid gray\">0,09</td>\n",
    "    <td style=\"border: 1px solid gray\">0,31</td>\n",
    "  </tr>\n",
    "</table>"
   ]
  },
  {
   "cell_type": "markdown",
   "metadata": {},
   "source": [
    "Анализ алгоритмов кластеризации и векторизации данных полностью соответсвуют ожиданиям"
   ]
  }
 ],
 "metadata": {
  "kernelspec": {
   "display_name": "Python 3",
   "language": "python",
   "name": "python3"
  },
  "language_info": {
   "codemirror_mode": {
    "name": "ipython",
    "version": 3
   },
   "file_extension": ".py",
   "mimetype": "text/x-python",
   "name": "python",
   "nbconvert_exporter": "python",
   "pygments_lexer": "ipython3",
   "version": "3.7.0"
  },
  "varInspector": {
   "cols": {
    "lenName": 16,
    "lenType": 16,
    "lenVar": 40
   },
   "kernels_config": {
    "python": {
     "delete_cmd_postfix": "",
     "delete_cmd_prefix": "del ",
     "library": "var_list.py",
     "varRefreshCmd": "print(var_dic_list())"
    },
    "r": {
     "delete_cmd_postfix": ") ",
     "delete_cmd_prefix": "rm(",
     "library": "var_list.r",
     "varRefreshCmd": "cat(var_dic_list()) "
    }
   },
   "types_to_exclude": [
    "module",
    "function",
    "builtin_function_or_method",
    "instance",
    "_Feature"
   ],
   "window_display": false
  }
 },
 "nbformat": 4,
 "nbformat_minor": 2
}
